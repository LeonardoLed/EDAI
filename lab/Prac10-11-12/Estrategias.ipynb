{
 "cells": [
  {
   "cell_type": "code",
   "execution_count": 1,
   "id": "e177f0f9-2f3a-43d0-919c-3709e022c6b5",
   "metadata": {},
   "outputs": [],
   "source": [
    "import turtle\n",
    "wn = turtle.Screen()\n",
    "wn.bgcolor(\"lightgreen\")\n",
    "tess = turtle.Turtle()\n",
    "tess.shape(\"turtle\")\n",
    "tess.color(\"blue\")\n",
    "\n",
    "tess.penup()             \n",
    "size = 20\n",
    "for i in range(30):\n",
    "   tess.stamp()             \n",
    "   size = size + 3          \n",
    "   tess.forward(size)       \n",
    "   tess.right(24)        \n",
    "\n",
    "turtle.Screen().bye()\n",
    "#wn.mainloop()"
   ]
  },
  {
   "cell_type": "code",
   "execution_count": 2,
   "id": "271183f8-4ca1-4ecf-b4ce-f9ebe9d3f75d",
   "metadata": {},
   "outputs": [
    {
     "name": "stdout",
     "output_type": "stream",
     "text": [
      "Overwriting recorrido_recursivo.py\n"
     ]
    }
   ],
   "source": [
    "%%writefile recorrido_recursivo.py\n",
    "\n",
    "import turtle\n",
    "import argparse\n",
    "\n",
    "\n",
    "def recorrido_recursivo(tortuga, espacio, huellas):\n",
    "    if huellas > 0:\n",
    "        tortuga.stamp()\n",
    "        espacio = espacio + 3\n",
    "        tortuga.forward(espacio)\n",
    "        tortuga.right(24)\n",
    "        recorrido_recursivo(tortuga, espacio, huellas-1)\n",
    "\n",
    "# para recibir argumentos\n",
    "ap = argparse.ArgumentParser()\n",
    "ap.add_argument(\"--huellas\", required=True, help=\"número de huellas\")\n",
    "#adicional\n",
    "ap.add_argument(\"--espacio\", required=False, help=\"espacio\", default= 10)\n",
    "\n",
    "args = vars(ap.parse_args())\n",
    "huellas = int(args[\"huellas\"])\n",
    "espacio = int(args[\"espacio\"])\n",
    "\n",
    "wn = turtle.Screen()\n",
    "wn.bgcolor(\"lightgreen\")\n",
    "tortuga = turtle.Turtle()\n",
    "tortuga.shape(\"turtle\")\n",
    "tortuga.color(\"blue\")\n",
    "\n",
    "tortuga.penup()               \n",
    "size = 20\n",
    "\n",
    "\n",
    "recorrido_recursivo(tortuga, espacio, huellas)\n",
    "turtle.Screen().bye()\n",
    "\n"
   ]
  },
  {
   "cell_type": "code",
   "execution_count": 10,
   "id": "47dd958b-ade0-4dd9-8284-a3a36f496a6c",
   "metadata": {},
   "outputs": [],
   "source": [
    "!python recorrido_recursivo.py --huellas 60"
   ]
  },
  {
   "cell_type": "code",
   "execution_count": 4,
   "id": "e5651e8d-a357-4fef-bcea-3c6ab0d2af16",
   "metadata": {},
   "outputs": [
    {
     "name": "stdout",
     "output_type": "stream",
     "text": [
      "1! = 1\n",
      "2! = 2\n",
      "3! = 6\n",
      "4! = 24\n",
      "5! = 120\n",
      "120\n"
     ]
    }
   ],
   "source": [
    "def factorial(n):\n",
    "   if n < 1:   # base case\n",
    "       return 1\n",
    "   else:\n",
    "       returnNumber = n * factorial(n - 1)  # recursive call\n",
    "       print(str(n) + '! = ' + str(returnNumber))\n",
    "       return returnNumber\n",
    "\n",
    "print(factorial(5))"
   ]
  },
  {
   "cell_type": "code",
   "execution_count": 5,
   "id": "9ce8d2ed-a9d3-4557-8f79-57d1b452da97",
   "metadata": {},
   "outputs": [
    {
     "name": "stdout",
     "output_type": "stream",
     "text": [
      "1\n",
      "1\n",
      "2\n",
      "3\n",
      "5\n",
      "8\n",
      "13\n"
     ]
    }
   ],
   "source": [
    "# fibo interativo\n",
    "def fibonacci(n):\n",
    "    a, b = 0, 1\n",
    "    for _ in range(n):\n",
    "        print(b)\n",
    "        a, b = b, a + b\n",
    "\n",
    "fibonacci(7)"
   ]
  },
  {
   "cell_type": "code",
   "execution_count": 6,
   "id": "4c5c9166-36e0-4c3b-90c6-b94a94ae3a8d",
   "metadata": {},
   "outputs": [
    {
     "data": {
      "text/plain": [
       "144"
      ]
     },
     "execution_count": 6,
     "metadata": {},
     "output_type": "execute_result"
    }
   ],
   "source": [
    "# fibo recursivo sin memoria\n",
    "\n",
    "def fibonacci_recursivo(numero):\n",
    "    if numero == 1:\n",
    "        return 0\n",
    "    if numero == 2 or numero == 3:\n",
    "        return 1\n",
    "    return fibonacci_recursivo(numero-1) + fibonacci_recursivo(numero-2)\n",
    "\n",
    "fibonacci_recursivo(13)\n",
    "    "
   ]
  },
  {
   "cell_type": "code",
   "execution_count": 7,
   "id": "9c258464-39f9-479c-9d9b-c58ac3c93e0f",
   "metadata": {},
   "outputs": [
    {
     "name": "stdout",
     "output_type": "stream",
     "text": [
      "{1: 0, 2: 1, 3: 1, 4: 2, 5: 3, 6: 5, 7: 8, 8: 13, 9: 21, 10: 34, 11: 55, 12: 89, 13: 144}\n"
     ]
    }
   ],
   "source": [
    "# fibo recursivo con memoria\n",
    "memoria = {1:0, 2:1, 3:1}\n",
    "\n",
    "def fibo_memo(numero):\n",
    "    if numero in memoria:\n",
    "        return memoria[numero]\n",
    "    memoria[numero] = fibo_memo(numero-1) + fibo_memo(numero-2)\n",
    "    return memoria[numero]\n",
    "\n",
    "fibo_memo(13)\n",
    "print(memoria)\n",
    "    "
   ]
  },
  {
   "cell_type": "code",
   "execution_count": 8,
   "id": "ade9d1fb-d9d8-4a21-a22c-854f60537255",
   "metadata": {},
   "outputs": [
    {
     "name": "stdout",
     "output_type": "stream",
     "text": [
      "Fibonacci sequence:\n",
      "1\n",
      "1\n",
      "2\n",
      "3\n",
      "5\n",
      "8\n",
      "13\n"
     ]
    }
   ],
   "source": [
    "# fibo buttom_ up\n",
    "\n",
    "def fibo_buttom_up(nterms):\n",
    "    \n",
    "    n1, n2 = 0, 1\n",
    "    count = 0\n",
    "    \n",
    "    if nterms <= 0:\n",
    "        print(\"Please enter a positive integer\")\n",
    "    elif nterms == 1:\n",
    "        print(\"Fibonacci sequence up to\", nterms, \":\")\n",
    "        print(n1)\n",
    "    else:\n",
    "        print(\"Fibonacci sequence:\")\n",
    "        while count <= nterms:\n",
    "            if count > 0: \n",
    "                print(n1)\n",
    "                \n",
    "            nth = n1 + n2\n",
    "            n1 = n2\n",
    "            n2 = nth\n",
    "            count += 1\n",
    "\n",
    "fibo_buttom_up(7)"
   ]
  },
  {
   "cell_type": "code",
   "execution_count": 9,
   "id": "357dbb45-9da2-4121-804e-290aa68af6ac",
   "metadata": {},
   "outputs": [
    {
     "name": "stdout",
     "output_type": "stream",
     "text": [
      "Enter the number of terms: 5\n",
      "[0, 1, 1, 2, 3]\n"
     ]
    }
   ],
   "source": [
    "# fibo top_down\n",
    "\n",
    "def fibonacci(n):\n",
    "    if n <= 0:\n",
    "        return []\n",
    "    elif n == 1:\n",
    "        return [0]\n",
    "    elif n == 2:\n",
    "        return [0, 1]\n",
    "    else:\n",
    "        fib_series = [0, 1]\n",
    "        for i in range(2, n):\n",
    "            fib_series.append(fib_series[i-1] + fib_series[i-2])\n",
    "        return fib_series\n",
    "\n",
    "n = int(input(\"Enter the number of terms: \"))\n",
    "print(fibonacci(n))"
   ]
  },
  {
   "cell_type": "code",
   "execution_count": 23,
   "id": "2ee8a5ef-68ae-4008-b85e-ce02b2c5bf8f",
   "metadata": {},
   "outputs": [
    {
     "data": {
      "text/plain": [
       "[0, 1, 1, 4, 5, 100, 291]"
      ]
     },
     "execution_count": 23,
     "metadata": {},
     "output_type": "execute_result"
    }
   ],
   "source": [
    "#quick sort recursivo\n",
    "def quicksort(arr):\n",
    "    if len(arr) <= 1:\n",
    "        return arr\n",
    "    pivot = arr[0]\n",
    "    left = []\n",
    "    right = []\n",
    "    for x in arr[1:]:\n",
    "        if x < pivot:\n",
    "            left.append(x)\n",
    "        else:\n",
    "            right.append(x)\n",
    "    return quicksort(left) + [pivot] + quicksort(right)\n",
    "\n",
    "quicksort([1,5,100,291,0,1,4])"
   ]
  },
  {
   "cell_type": "code",
   "execution_count": 102,
   "id": "dcf8bfa2-03ef-44d6-8580-7f020cf84608",
   "metadata": {},
   "outputs": [],
   "source": [
    "def quicksort(lista):\n",
    "    global i_times\n",
    "    i_times = 1\n",
    "    quicksort_aux(lista, 0, len(lista)-1)\n",
    "\n",
    "def quicksort_aux(lista, inicio, fin):\n",
    "    if inicio < fin:\n",
    "        pivote = particion(lista, inicio, fin)\n",
    "        quicksort_aux(lista, inicio, pivote-1)\n",
    "        quicksort_aux(lista, pivote+1, fin)\n",
    "\n",
    "def particion(lista, inicio, fin):\n",
    "    global i_times\n",
    "    pivote = lista[inicio]\n",
    "    #print(\"Valor del pivote{}\".format(pivote))\n",
    "    izquierda = inicio + 1\n",
    "    derecha = fin\n",
    "    #print(\"Indice Izquierdo {}\".format(izquierda))\n",
    "    #print(\"Indice Derecho {}\".format(derecha))\n",
    "    bandera = False\n",
    "    \n",
    "    while not bandera:\n",
    "        while izquierda <= derecha and lista[izquierda] <= pivote:\n",
    "            izquierda += 1\n",
    "            i_times += 1\n",
    "        while lista[derecha] >= pivote and derecha >= izquierda:\n",
    "            derecha -= 1\n",
    "            i_times += 1\n",
    "        if derecha < izquierda:\n",
    "            bandera = True\n",
    "        else:\n",
    "            temp = lista[izquierda]\n",
    "            lista[izquierda] = lista[derecha]\n",
    "            lista[derecha] = temp\n",
    "            i_times += 1\n",
    "    \n",
    "    #print(lista)\n",
    "    \n",
    "    temp = lista[inicio]\n",
    "    lista[inicio] = lista[derecha]\n",
    "    lista[derecha] = temp\n",
    "    return derecha\n",
    "            \n",
    "    "
   ]
  },
  {
   "cell_type": "code",
   "execution_count": 103,
   "id": "5b316ba1",
   "metadata": {},
   "outputs": [
    {
     "name": "stdout",
     "output_type": "stream",
     "text": [
      "lista desordenada: [21, 10, 0, 11, 9, 24, 20, 14, 1]\n",
      "lista ordenada: [0, 1, 9, 10, 11, 14, 20, 21, 24]\n"
     ]
    }
   ],
   "source": [
    "lista = [21, 10, 0, 11, 9, 24, 20, 14, 1]\n",
    "print(\"lista desordenada: {}\".format(lista))\n",
    "quicksort(lista)\n",
    "print(\"lista ordenada: {}\".format(lista))"
   ]
  },
  {
   "cell_type": "code",
   "execution_count": 104,
   "id": "12c0bdc8",
   "metadata": {},
   "outputs": [],
   "source": [
    "def insertionSort(arr):\n",
    "    n_times = 0\n",
    "    \n",
    "    n = len(arr) # Get the length of the array\n",
    "    if n <= 1:\n",
    "        n_times +=1\n",
    "        return arr, n_times# If the array has 0 or 1 element, it is already sorted, so return\n",
    "    \n",
    "    for i in range(1, n): # Iterate over the array starting from the second element\n",
    "        key = arr[i] # Store the current element as the key to be inserted in the right position\n",
    "        j = i-1\n",
    "        n_times +=1 #\n",
    "        while j >= 0 and key < arr[j]: # Move elements greater than key one position ahead\n",
    "            n_times += 1\n",
    "            arr[j+1] = arr[j] # Shift elements to the right\n",
    "            j -= 1\n",
    "    arr[j+1] = key # Insert the key in the correct position\n",
    "\n",
    "    return arr, n_times\n"
   ]
  },
  {
   "cell_type": "code",
   "execution_count": 105,
   "id": "92ae6489",
   "metadata": {},
   "outputs": [
    {
     "name": "stdout",
     "output_type": "stream",
     "text": [
      "Tiempos parciales de ejecución en INSERTION SORT [0.0, 0.000998, 0.005087, 0.009509, 0.014135, 0.022508, 0.024708, 0.030371, 0.0408, 0.053247, 0.057784, 0.062467, 0.069487, 0.081595, 0.109403, 0.114831, 0.133487, 0.168476, 0.183287, 0.191887] [s]\n",
      "\n",
      "Tiempos parciales de ejecución en QUICK SORT [0.0, 0.001002, 0.003999, 0.005398, 0.010508, 0.017194, 0.011593, 0.013409, 0.021135, 0.038451, 0.030468, 0.026557, 0.023188, 0.024787, 0.049457, 0.04683, 0.061391, 0.098419, 0.103695, 0.073014] [s]\n",
      "\n",
      "Tiempo total de ejecución en INSERTION SORT 1.374067 [s]\n",
      "\n",
      "Tiempo total de ejecución en QUICK SORT 0.660495 [s]\n",
      "\n"
     ]
    }
   ],
   "source": [
    "import random \n",
    "from time import time\n",
    "\n",
    "datos = [ii* 100 for ii in range(1,21)]\n",
    "tiempo_is = []\n",
    "tiempo_qs = []\n",
    "\n",
    "for ii in datos:\n",
    "    \n",
    "    lista_is = random.sample(range(0,10000000), ii)\n",
    "    lista_qs = lista_is.copy()\n",
    "    \n",
    "    t0 = time()\n",
    "    lo, t = insertionSort(lista_is)\n",
    "    tiempo_is.append(round(time()-t0,6))\n",
    "    \n",
    "    t0 = time()\n",
    "    quicksort(lista_is)\n",
    "    tiempo_qs.append(round(time()-t0,6))\n",
    "\n",
    "print(\"Tiempos parciales de ejecución en INSERTION SORT {} [s]\\n\".format(tiempo_is))\n",
    "print(\"Tiempos parciales de ejecución en QUICK SORT {} [s]\\n\".format(tiempo_qs))\n",
    "\n",
    "\n",
    "print(\"Tiempo total de ejecución en INSERTION SORT {} [s]\\n\".format(sum(tiempo_is)))\n",
    "print(\"Tiempo total de ejecución en QUICK SORT {} [s]\\n\".format(sum(tiempo_qs)))\n",
    "\n",
    "    "
   ]
  },
  {
   "cell_type": "code",
   "execution_count": 106,
   "id": "d6367723",
   "metadata": {},
   "outputs": [
    {
     "data": {
      "image/png": "[encoded data removed]",
      "text/plain": [
       "<Figure size 432x288 with 1 Axes>"
      ]
     },
     "metadata": {
      "needs_background": "light"
     },
     "output_type": "display_data"
    }
   ],
   "source": [
    "import matplotlib.pyplot as plt\n",
    "\n",
    "fig, ax = plt.subplots()\n",
    "ax.plot(datos, tiempo_is, label=\"Insertion Sort\", marker = \"*\", color = \"r\")\n",
    "ax.plot(datos, tiempo_qs, label=\"Quick Sort\", marker = \"o\", color = \"b\")\n",
    "ax.set_xlabel('Datos')\n",
    "ax.set_ylabel('Tiempo')\n",
    "ax.grid(True)\n",
    "ax.legend(loc=2)\n",
    "\n",
    "plt.title(\"Tiempo de Ejecucución [s] (Insert vs Quick)- Sort\")\n",
    "plt.show()\n",
    "\n"
   ]
  },
  {
   "cell_type": "code",
   "execution_count": 122,
   "id": "e7304455",
   "metadata": {},
   "outputs": [
    {
     "data": {
      "image/png": "[encoded data removed]",
      "text/plain": [
       "<Figure size 432x288 with 1 Axes>"
      ]
     },
     "metadata": {},
     "output_type": "display_data"
    }
   ],
   "source": [
    "# se comprueba que Insertation Sort tiene complejidad O(x^2)\n",
    "\n",
    "import matplotlib.pyplot as plt\n",
    "from mpl_toolkits.mplot3d import Axes3D\n",
    "import random\n",
    "import numpy as np\n",
    "\n",
    "TAM = 500\n",
    "eje_x = list(range(1,TAM,1))\n",
    "eje_y = []\n",
    "eje_y2 = []\n",
    "lista_variable = []\n",
    "\n",
    "global i_times\n",
    "\n",
    "for num in eje_x:\n",
    "    lista_is = random.sample(range(0,10000), num)\n",
    "    lista_qs = lista_is\n",
    "    lista_variable, times = insertionSort(lista_is)\n",
    "    quicksort(lista_qs)\n",
    "    eje_y.append(times)\n",
    "    eje_y2.append(i_times)\n",
    "\n",
    "    \n",
    "\n",
    "# Funciones Big - O\n",
    "x = range(1,TAM,1)\n",
    "y = [_*_ for _ in x]\n",
    "\n",
    "\n",
    "fig, ax = plt.subplots(facecolor = 'w', edgecolor = 'k')\n",
    "ax.plot(eje_x, eje_y, marker = 'o', color = 'g', linestyle = 'None')\n",
    "ax.plot(eje_x, eje_y2, marker = 'o', color = 'b', linestyle = 'None')\n",
    "ax.plot(x, y, color = 'r')\n",
    "\n",
    "ax.set_xlabel('x')\n",
    "ax.set_ylabel('y')\n",
    "ax.grid(True)\n",
    "ax.legend(['Insertion Sort', 'Quick Sort', 'O(x^2)'])\n",
    "\n",
    "plt.title('Insert sort')\n",
    "plt.show()\n",
    "\n"
   ]
  },
  {
   "cell_type": "code",
   "execution_count": null,
   "id": "bd785533",
   "metadata": {},
   "outputs": [],
   "source": []
  },
  {
   "cell_type": "code",
   "execution_count": null,
   "id": "7442d2ae",
   "metadata": {},
   "outputs": [],
   "source": []
  }
 ],
 "metadata": {
  "kernelspec": {
   "display_name": "Python 3 (ipykernel)",
   "language": "python",
   "name": "python3"
  },
  "language_info": {
   "codemirror_mode": {
    "name": "ipython",
    "version": 3
   },
   "file_extension": ".py",
   "mimetype": "text/x-python",
   "name": "python",
   "nbconvert_exporter": "python",
   "pygments_lexer": "ipython3",
   "version": "3.9.12"
  }
 },
 "nbformat": 4,
 "nbformat_minor": 5
}
